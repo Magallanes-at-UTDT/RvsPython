{
 "cells": [
  {
   "cell_type": "markdown",
   "id": "712b5570-35bf-4774-99ee-8307e9a01bb6",
   "metadata": {},
   "source": [
    "<center><img src=\"https://github.com/Magallanes-at-UTDT/RvsPython_ShortTalk/blob/main/logo_talkRPy.png?raw=true\" width=\"1000\"></center> "
   ]
  },
  {
   "cell_type": "code",
   "execution_count": null,
   "id": "37aceb00-690c-42fe-a422-b6694100bad2",
   "metadata": {},
   "outputs": [],
   "source": []
  }
 ],
 "metadata": {
  "kernelspec": {
   "display_name": "Python 3 (ipykernel)",
   "language": "python",
   "name": "python3"
  },
  "language_info": {
   "codemirror_mode": {
    "name": "ipython",
    "version": 3
   },
   "file_extension": ".py",
   "mimetype": "text/x-python",
   "name": "python",
   "nbconvert_exporter": "python",
   "pygments_lexer": "ipython3",
   "version": "3.11.9"
  }
 },
 "nbformat": 4,
 "nbformat_minor": 5
}
